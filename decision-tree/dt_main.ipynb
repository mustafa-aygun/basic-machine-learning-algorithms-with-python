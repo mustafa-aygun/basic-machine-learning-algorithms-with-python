{
 "cells": [
  {
   "cell_type": "code",
   "execution_count": 10,
   "metadata": {},
   "outputs": [],
   "source": [
    "import numpy as np\n",
    "from dt import *\n",
    "import pydot \n",
    "\n",
    "train_set=np.load('dt/train_set.npy')\n",
    "train_labels=np.load('dt/train_labels.npy')\n",
    "test_set=np.load('dt/test_set.npy')\n",
    "test_labels=np.load('dt/test_labels.npy')"
   ]
  },
  {
   "cell_type": "code",
   "execution_count": 11,
   "metadata": {},
   "outputs": [],
   "source": [
    "#Given features and number of classes\n",
    "numerical_features = 4\n",
    "num_classes = 3\n"
   ]
  },
  {
   "cell_type": "code",
   "execution_count": 12,
   "metadata": {},
   "outputs": [],
   "source": [
    "#Create a class to fill tree\n",
    "class Node:\n",
    "    name = None\n",
    "    left_child = None\n",
    "    right_child = None\n",
    "    bucket = None\n",
    "    calculated_split_value = None\n",
    "    num_attribute = None\n",
    "    \n"
   ]
  },
  {
   "cell_type": "code",
   "execution_count": 13,
   "metadata": {},
   "outputs": [],
   "source": [
    "#Basic for loop to calculate bucket.\n",
    "def calculate_bucket(label,num_classes):\n",
    "    bucket = []\n",
    "    for i in range(num_classes):\n",
    "        bucket.append((label == i).sum())\n",
    "    return bucket"
   ]
  },
  {
   "cell_type": "code",
   "execution_count": 14,
   "metadata": {},
   "outputs": [],
   "source": [
    "#Basic accuracy function.\n",
    "def calculate_accuracy(prediction,test_labels):\n",
    "    accuracy = np.subtract(prediction,test_labels)\n",
    "    return accuracy"
   ]
  },
  {
   "cell_type": "code",
   "execution_count": 15,
   "metadata": {},
   "outputs": [],
   "source": [
    "\n",
    "#Creating tree\n",
    "def make_dt(train_set,train_labels,parent_node,heuristic_name):\n",
    "    #Deciding function according to heuristic_name\n",
    "    fnction = np.argmax\n",
    "    if(heuristic_name == 'avg_gini_index'):\n",
    "        fnction = np.argmin\n",
    "\n",
    "    parent_node.bucket = calculate_bucket(train_labels,num_classes) \n",
    "    #Checking stop condition\n",
    "    if(heuristic_name == 'avg_gini_index'):\n",
    "        compare = gini(parent_node.bucket)\n",
    "        if(compare  == 0):\n",
    "            return \n",
    "    else:\n",
    "        compare = entropy(parent_node.bucket)\n",
    "        if(compare  == 0):\n",
    "            return \n",
    "    results_value = []\n",
    "    results_split_value = []\n",
    "    #Checking which feature is best according to gini and info and what is the split value.\n",
    "    for i in range(numerical_features):\n",
    "        result = calculate_split_values(train_set, train_labels, num_classes, i, heuristic_name)\n",
    "        mins = fnction(result[:,1],axis=0)\n",
    "        results_value.append(result[:,1][mins])\n",
    "        results_split_value.append(result[:,0][mins])\n",
    "    #Giving that values.\n",
    "    parent_node.num_attribute = fnction(results_value)\n",
    "    parent_node.calculated_split_value = results_split_value[parent_node.num_attribute]\n",
    "\n",
    "    count = 0\n",
    "    while(len(train_set) == 2 and train_set[0][parent_node.num_attribute] == train_set[1][parent_node.num_attribute]):      \n",
    "        parent_node.num_attribute = count\n",
    "        parent_node.calculated_split_value = results_split_value[parent_node.num_attribute]\n",
    "        count +=1\n",
    "    #Divide label and data\n",
    "    left_train_set = train_set[train_set[:,parent_node.num_attribute] < parent_node.calculated_split_value]\n",
    "    right_train_set = train_set[train_set[:,parent_node.num_attribute] >= parent_node.calculated_split_value]\n",
    "    left_label = train_labels[train_set[:,parent_node.num_attribute] < parent_node.calculated_split_value]\n",
    "    right_label = train_labels[train_set[:,parent_node.num_attribute] >= parent_node.calculated_split_value]\n",
    "    #Call function again\n",
    "    left_child = Node()\n",
    "    right_child = Node()\n",
    "    left_child.name = parent_node.name*2\n",
    "    right_child.name = parent_node.name*2+1\n",
    "    parent_node.left_child = left_child\n",
    "    parent_node.right_child = right_child\n",
    "    #Some stop conditions \n",
    "    if(len(left_label) == 0):\n",
    "        return \n",
    "    make_dt(left_train_set,left_label,parent_node.left_child,heuristic_name)\n",
    "    if(len(right_label) == 0):\n",
    "        return\n",
    "    make_dt(right_train_set,right_label,parent_node.right_child,heuristic_name)\n",
    "\n",
    "    \n",
    "    \n",
    "   "
   ]
  },
  {
   "cell_type": "code",
   "execution_count": 16,
   "metadata": {},
   "outputs": [],
   "source": [
    "#Basic test function. If you find the leaf node get the max argument label in that bucket. Otherwise continue to left right according to split value.\n",
    "def test_DT(root,test_set,prediction):\n",
    "    if(root.calculated_split_value == None):\n",
    "        \n",
    "        prediction.append(np.argmax(root.bucket))\n",
    "        return\n",
    "    \n",
    "    if(root.calculated_split_value > test_set[root.num_attribute]):\n",
    "        test_DT(root.left_child,test_set,prediction)\n",
    "    else:\n",
    "        test_DT(root.right_child,test_set,prediction)\n",
    "    "
   ]
  },
  {
   "cell_type": "code",
   "execution_count": 17,
   "metadata": {},
   "outputs": [],
   "source": [
    "#Creating tree with pydot. It is basic tree traversal like in C.\n",
    "def print_DT(root,graph):\n",
    "    if(root.left_child != None):\n",
    "        print_DT(root.left_child,graph)\n",
    "    if(root.right_child != None):\n",
    "        print_DT(root.right_child,graph)\n",
    "\n",
    "    node_name = \"x[\"+str(root.num_attribute)+\"]<\"+str(root.calculated_split_value)+\"\\n\"+str(root.bucket)\n",
    "    if(root.calculated_split_value == None):\n",
    "        node_name = str(root.bucket)\n",
    "    node = pydot.Node(root.name,label=node_name)\n",
    "    graph.add_node(node)\n",
    "\n",
    "    if(root.left_child != None):\n",
    "        print_DT(root.left_child,graph)\n",
    "    if(root.right_child != None):\n",
    "        print_DT(root.right_child,graph)\n",
    "    if(root.calculated_split_value != None):\n",
    "        edge1 = pydot.Edge(str(root.name),str(root.name*2),label=\"<\")\n",
    "        edge2 = pydot.Edge(str(root.name),str(root.name*2+1),label=\">=\")\n",
    "        graph.add_edge(edge1)\n",
    "        graph.add_edge(edge2)"
   ]
  },
  {
   "cell_type": "code",
   "execution_count": 18,
   "metadata": {},
   "outputs": [
    {
     "name": "stdout",
     "output_type": "stream",
     "text": [
      "96.66666666666667\n",
      "90.0\n"
     ]
    }
   ],
   "source": [
    "#For two different function create tree print tree and test tree. It prints accuracy and also write trees to a png file.\n",
    "h_name = ['info_gain','avg_gini_index']\n",
    "for i in h_name:\n",
    "    parent_node = Node()\n",
    "    parent_node.name = 1\n",
    "    make_dt(train_set,train_labels,parent_node,i)\n",
    "    graph = pydot.Dot(graph_type='digraph',strict=True)\n",
    "    print_DT(parent_node,graph)\n",
    "    out_name = i + \".png\"\n",
    "    graph.write_png(out_name)\n",
    "    prediction = []\n",
    "    for i in range(len(test_set)):\n",
    "        test_DT(parent_node,test_set[i],prediction)\n",
    "    accuracy = calculate_accuracy(prediction,test_labels)\n",
    "    accuracy = np.count_nonzero(accuracy == 0)/len(accuracy)*100\n",
    "    print(accuracy)"
   ]
  },
  {
   "cell_type": "code",
   "execution_count": 19,
   "metadata": {},
   "outputs": [],
   "source": [
    "#Chi table according to degree of freedom. Same steps are implemented at following. Just chi square check added.\n",
    "chi_table = [2.706, 4.605, 6.251]"
   ]
  },
  {
   "cell_type": "code",
   "execution_count": 20,
   "metadata": {},
   "outputs": [],
   "source": [
    "def make_dt_chi_square(train_set,train_labels,parent_node,heuristic_name):\n",
    "    fnction = np.argmax\n",
    "    if(heuristic_name == 'avg_gini_index'):\n",
    "        fnction = np.argmin\n",
    "\n",
    "    parent_node.bucket = calculate_bucket(train_labels,num_classes) \n",
    "    if(heuristic_name == 'avg_gini_index'):\n",
    "        compare = gini(parent_node.bucket)\n",
    "        if(compare  == 0):\n",
    "            return \n",
    "    else:\n",
    "        compare = entropy(parent_node.bucket)\n",
    "        if(compare  == 0):\n",
    "            return \n",
    "    results_value = []\n",
    "    results_split_value = []\n",
    "\n",
    "    for i in range(numerical_features):\n",
    "        result = calculate_split_values(train_set, train_labels, num_classes, i, heuristic_name)\n",
    "        mins = fnction(result[:,1],axis=0)\n",
    "        results_value.append(result[:,1][mins])\n",
    "        results_split_value.append(result[:,0][mins])\n",
    "    \n",
    "    parent_node.num_attribute = fnction(results_value)\n",
    "    parent_node.calculated_split_value = results_split_value[parent_node.num_attribute]\n",
    "\n",
    "    count = 0\n",
    "    while(len(train_set) == 2 and train_set[0][parent_node.num_attribute] == train_set[1][parent_node.num_attribute]):      \n",
    "        parent_node.num_attribute = count\n",
    "        parent_node.calculated_split_value = results_split_value[parent_node.num_attribute]\n",
    "        count +=1\n",
    "\n",
    "    left_train_set = train_set[train_set[:,parent_node.num_attribute] < parent_node.calculated_split_value]\n",
    "    right_train_set = train_set[train_set[:,parent_node.num_attribute] >= parent_node.calculated_split_value]\n",
    "    left_label = train_labels[train_set[:,parent_node.num_attribute] < parent_node.calculated_split_value]\n",
    "    right_label = train_labels[train_set[:,parent_node.num_attribute] >= parent_node.calculated_split_value]\n",
    "    #After separate the labels check if chi square reject or accept it. If condition is true, we are returning without splitting data.\n",
    "    chi_value, degree_freedom = chi_squared_test(calculate_bucket(left_label,num_classes) ,calculate_bucket(right_label,num_classes))\n",
    "    if chi_value <= chi_table[degree_freedom-1]:\n",
    "        return\n",
    "    \n",
    "    left_child = Node()\n",
    "    right_child = Node()\n",
    "    left_child.name = parent_node.name*2\n",
    "    right_child.name = parent_node.name*2+1\n",
    "    parent_node.left_child = left_child\n",
    "    parent_node.right_child = right_child\n",
    "    if(len(left_label) == 0):\n",
    "        return \n",
    "    make_dt_chi_square(left_train_set,left_label,parent_node.left_child,heuristic_name)\n",
    "    if(len(right_label) == 0):\n",
    "        return\n",
    "    make_dt_chi_square(right_train_set,right_label,parent_node.right_child,heuristic_name)"
   ]
  },
  {
   "cell_type": "code",
   "execution_count": 21,
   "metadata": {},
   "outputs": [],
   "source": [
    "#Doing test as same way. Just added extra if conditions according to leaf node changes.\n",
    "def test_DT_chi(root,test_set,prediction):\n",
    "    if(root.calculated_split_value == None or (root.left_child == None and root.right_child == None)):    \n",
    "        prediction.append(np.argmax(root.bucket))\n",
    "        return\n",
    "    \n",
    "    if(root.calculated_split_value > test_set[root.num_attribute]):\n",
    "        if(root.left_child == None):\n",
    "            return\n",
    "        test_DT_chi(root.left_child,test_set,prediction)\n",
    "    else:\n",
    "        if(root.right_child == None):\n",
    "            return\n",
    "        test_DT_chi(root.right_child,test_set,prediction)"
   ]
  },
  {
   "cell_type": "code",
   "execution_count": 22,
   "metadata": {},
   "outputs": [],
   "source": [
    "#Same with previous print tree. Just added extra if conditions according to leaf node changes.\n",
    "def print_DT_chi(root,graph):\n",
    "    \n",
    "    if(root.left_child != None):\n",
    "        print_DT_chi(root.left_child,graph)\n",
    "    if(root.right_child != None):\n",
    "        print_DT_chi(root.right_child,graph)\n",
    "\n",
    "    node_name = \"x[\"+str(root.num_attribute)+\"]<\"+str(root.calculated_split_value)+\"\\n\"+str(root.bucket)\n",
    "    \n",
    "    if(root.calculated_split_value == None):\n",
    "        node_name = str(root.bucket)\n",
    "    node = pydot.Node(root.name,label=node_name)\n",
    "    graph.add_node(node)\n",
    "\n",
    "    if(root.left_child != None):\n",
    "        print_DT_chi(root.left_child,graph)\n",
    "    if(root.right_child != None):\n",
    "        print_DT_chi(root.right_child,graph)\n",
    "    #This if added to check if it is leaf node or not. Calculated split value check doesnt enough anymore.\n",
    "    if(root.left_child == None and root.right_child == None):\n",
    "        return\n",
    "    if(root.calculated_split_value != None):\n",
    "        edge1 = pydot.Edge(str(root.name),str(root.name*2),label=\"<\")\n",
    "        edge2 = pydot.Edge(str(root.name),str(root.name*2+1),label=\">=\")\n",
    "        graph.add_edge(edge1)\n",
    "        graph.add_edge(edge2)"
   ]
  },
  {
   "cell_type": "code",
   "execution_count": 23,
   "metadata": {},
   "outputs": [
    {
     "name": "stdout",
     "output_type": "stream",
     "text": [
      "96.66666666666667\n",
      "90.0\n"
     ]
    }
   ],
   "source": [
    "#For two different function create tree print tree and test tree. It prints accuracy and also write trees to a png file with the name chi on them.\n",
    "h_name = ['info_gain','avg_gini_index']\n",
    "for i in h_name:\n",
    "    parent_node = Node()\n",
    "    parent_node.name = 1\n",
    "    make_dt_chi_square(train_set,train_labels,parent_node,i)\n",
    "    graph = pydot.Dot(graph_type='digraph',strict=True)\n",
    "    print_DT_chi(parent_node,graph)\n",
    "    out_name = i + \"_chi.png\"\n",
    "    graph.write_png(out_name)\n",
    "    prediction2 = []\n",
    "    for i in range(len(test_set)):\n",
    "        test_DT_chi(parent_node,test_set[i],prediction2)\n",
    "    accuracy = calculate_accuracy(prediction2,test_labels)\n",
    "    accuracy = np.count_nonzero(accuracy == 0)/len(accuracy)*100\n",
    "    print(accuracy)"
   ]
  },
  {
   "cell_type": "code",
   "execution_count": null,
   "metadata": {},
   "outputs": [],
   "source": []
  }
 ],
 "metadata": {
  "interpreter": {
   "hash": "3b45a8adf60affe29663f5b36a0a693c0ee2c27ca7f4b3141f6230f28526c5f6"
  },
  "kernelspec": {
   "display_name": "Python 3.9.5 64-bit",
   "language": "python",
   "name": "python3"
  },
  "language_info": {
   "codemirror_mode": {
    "name": "ipython",
    "version": 3
   },
   "file_extension": ".py",
   "mimetype": "text/x-python",
   "name": "python",
   "nbconvert_exporter": "python",
   "pygments_lexer": "ipython3",
   "version": "3.9.7"
  },
  "orig_nbformat": 4
 },
 "nbformat": 4,
 "nbformat_minor": 2
}
